{
 "cells": [
  {
   "cell_type": "code",
   "execution_count": 18,
   "id": "f561fdcb-7c25-4716-a3ae-859093132161",
   "metadata": {},
   "outputs": [],
   "source": [
    "import pandas as pd\n",
    "import plotly.express as ex\n",
    "import seaborn as sns\n",
    "import matplotlib.pyplot as plt"
   ]
  },
  {
   "cell_type": "code",
   "execution_count": 7,
   "id": "64c5337a-b569-42b9-a7cf-22488983fd57",
   "metadata": {},
   "outputs": [
    {
     "data": {
      "text/html": [
       "<div>\n",
       "<style scoped>\n",
       "    .dataframe tbody tr th:only-of-type {\n",
       "        vertical-align: middle;\n",
       "    }\n",
       "\n",
       "    .dataframe tbody tr th {\n",
       "        vertical-align: top;\n",
       "    }\n",
       "\n",
       "    .dataframe thead th {\n",
       "        text-align: right;\n",
       "    }\n",
       "</style>\n",
       "<table border=\"1\" class=\"dataframe\">\n",
       "  <thead>\n",
       "    <tr style=\"text-align: right;\">\n",
       "      <th></th>\n",
       "      <th>person_age</th>\n",
       "      <th>person_income</th>\n",
       "      <th>person_home_ownership</th>\n",
       "      <th>person_emp_length</th>\n",
       "      <th>loan_intent</th>\n",
       "      <th>loan_grade</th>\n",
       "      <th>loan_amnt</th>\n",
       "      <th>loan_int_rate</th>\n",
       "      <th>loan_status</th>\n",
       "      <th>loan_percent_income</th>\n",
       "      <th>cb_person_default_on_file</th>\n",
       "      <th>cb_person_cred_hist_length</th>\n",
       "    </tr>\n",
       "  </thead>\n",
       "  <tbody>\n",
       "    <tr>\n",
       "      <th>0</th>\n",
       "      <td>22</td>\n",
       "      <td>59000</td>\n",
       "      <td>RENT</td>\n",
       "      <td>123.0</td>\n",
       "      <td>PERSONAL</td>\n",
       "      <td>D</td>\n",
       "      <td>35000</td>\n",
       "      <td>16.02</td>\n",
       "      <td>1</td>\n",
       "      <td>0.59</td>\n",
       "      <td>Y</td>\n",
       "      <td>3</td>\n",
       "    </tr>\n",
       "    <tr>\n",
       "      <th>1</th>\n",
       "      <td>21</td>\n",
       "      <td>9600</td>\n",
       "      <td>OWN</td>\n",
       "      <td>5.0</td>\n",
       "      <td>EDUCATION</td>\n",
       "      <td>B</td>\n",
       "      <td>1000</td>\n",
       "      <td>11.14</td>\n",
       "      <td>0</td>\n",
       "      <td>0.10</td>\n",
       "      <td>N</td>\n",
       "      <td>2</td>\n",
       "    </tr>\n",
       "    <tr>\n",
       "      <th>2</th>\n",
       "      <td>25</td>\n",
       "      <td>9600</td>\n",
       "      <td>MORTGAGE</td>\n",
       "      <td>1.0</td>\n",
       "      <td>MEDICAL</td>\n",
       "      <td>C</td>\n",
       "      <td>5500</td>\n",
       "      <td>12.87</td>\n",
       "      <td>1</td>\n",
       "      <td>0.57</td>\n",
       "      <td>N</td>\n",
       "      <td>3</td>\n",
       "    </tr>\n",
       "    <tr>\n",
       "      <th>3</th>\n",
       "      <td>23</td>\n",
       "      <td>65500</td>\n",
       "      <td>RENT</td>\n",
       "      <td>4.0</td>\n",
       "      <td>MEDICAL</td>\n",
       "      <td>C</td>\n",
       "      <td>35000</td>\n",
       "      <td>15.23</td>\n",
       "      <td>1</td>\n",
       "      <td>0.53</td>\n",
       "      <td>N</td>\n",
       "      <td>2</td>\n",
       "    </tr>\n",
       "    <tr>\n",
       "      <th>4</th>\n",
       "      <td>24</td>\n",
       "      <td>54400</td>\n",
       "      <td>RENT</td>\n",
       "      <td>8.0</td>\n",
       "      <td>MEDICAL</td>\n",
       "      <td>C</td>\n",
       "      <td>35000</td>\n",
       "      <td>14.27</td>\n",
       "      <td>1</td>\n",
       "      <td>0.55</td>\n",
       "      <td>Y</td>\n",
       "      <td>4</td>\n",
       "    </tr>\n",
       "    <tr>\n",
       "      <th>...</th>\n",
       "      <td>...</td>\n",
       "      <td>...</td>\n",
       "      <td>...</td>\n",
       "      <td>...</td>\n",
       "      <td>...</td>\n",
       "      <td>...</td>\n",
       "      <td>...</td>\n",
       "      <td>...</td>\n",
       "      <td>...</td>\n",
       "      <td>...</td>\n",
       "      <td>...</td>\n",
       "      <td>...</td>\n",
       "    </tr>\n",
       "    <tr>\n",
       "      <th>32576</th>\n",
       "      <td>57</td>\n",
       "      <td>53000</td>\n",
       "      <td>MORTGAGE</td>\n",
       "      <td>1.0</td>\n",
       "      <td>PERSONAL</td>\n",
       "      <td>C</td>\n",
       "      <td>5800</td>\n",
       "      <td>13.16</td>\n",
       "      <td>0</td>\n",
       "      <td>0.11</td>\n",
       "      <td>N</td>\n",
       "      <td>30</td>\n",
       "    </tr>\n",
       "    <tr>\n",
       "      <th>32577</th>\n",
       "      <td>54</td>\n",
       "      <td>120000</td>\n",
       "      <td>MORTGAGE</td>\n",
       "      <td>4.0</td>\n",
       "      <td>PERSONAL</td>\n",
       "      <td>A</td>\n",
       "      <td>17625</td>\n",
       "      <td>7.49</td>\n",
       "      <td>0</td>\n",
       "      <td>0.15</td>\n",
       "      <td>N</td>\n",
       "      <td>19</td>\n",
       "    </tr>\n",
       "    <tr>\n",
       "      <th>32578</th>\n",
       "      <td>65</td>\n",
       "      <td>76000</td>\n",
       "      <td>RENT</td>\n",
       "      <td>3.0</td>\n",
       "      <td>HOMEIMPROVEMENT</td>\n",
       "      <td>B</td>\n",
       "      <td>35000</td>\n",
       "      <td>10.99</td>\n",
       "      <td>1</td>\n",
       "      <td>0.46</td>\n",
       "      <td>N</td>\n",
       "      <td>28</td>\n",
       "    </tr>\n",
       "    <tr>\n",
       "      <th>32579</th>\n",
       "      <td>56</td>\n",
       "      <td>150000</td>\n",
       "      <td>MORTGAGE</td>\n",
       "      <td>5.0</td>\n",
       "      <td>PERSONAL</td>\n",
       "      <td>B</td>\n",
       "      <td>15000</td>\n",
       "      <td>11.48</td>\n",
       "      <td>0</td>\n",
       "      <td>0.10</td>\n",
       "      <td>N</td>\n",
       "      <td>26</td>\n",
       "    </tr>\n",
       "    <tr>\n",
       "      <th>32580</th>\n",
       "      <td>66</td>\n",
       "      <td>42000</td>\n",
       "      <td>RENT</td>\n",
       "      <td>2.0</td>\n",
       "      <td>MEDICAL</td>\n",
       "      <td>B</td>\n",
       "      <td>6475</td>\n",
       "      <td>9.99</td>\n",
       "      <td>0</td>\n",
       "      <td>0.15</td>\n",
       "      <td>N</td>\n",
       "      <td>30</td>\n",
       "    </tr>\n",
       "  </tbody>\n",
       "</table>\n",
       "<p>32581 rows × 12 columns</p>\n",
       "</div>"
      ],
      "text/plain": [
       "       person_age  person_income person_home_ownership  person_emp_length  \\\n",
       "0              22          59000                  RENT              123.0   \n",
       "1              21           9600                   OWN                5.0   \n",
       "2              25           9600              MORTGAGE                1.0   \n",
       "3              23          65500                  RENT                4.0   \n",
       "4              24          54400                  RENT                8.0   \n",
       "...           ...            ...                   ...                ...   \n",
       "32576          57          53000              MORTGAGE                1.0   \n",
       "32577          54         120000              MORTGAGE                4.0   \n",
       "32578          65          76000                  RENT                3.0   \n",
       "32579          56         150000              MORTGAGE                5.0   \n",
       "32580          66          42000                  RENT                2.0   \n",
       "\n",
       "           loan_intent loan_grade  loan_amnt  loan_int_rate  loan_status  \\\n",
       "0             PERSONAL          D      35000          16.02            1   \n",
       "1            EDUCATION          B       1000          11.14            0   \n",
       "2              MEDICAL          C       5500          12.87            1   \n",
       "3              MEDICAL          C      35000          15.23            1   \n",
       "4              MEDICAL          C      35000          14.27            1   \n",
       "...                ...        ...        ...            ...          ...   \n",
       "32576         PERSONAL          C       5800          13.16            0   \n",
       "32577         PERSONAL          A      17625           7.49            0   \n",
       "32578  HOMEIMPROVEMENT          B      35000          10.99            1   \n",
       "32579         PERSONAL          B      15000          11.48            0   \n",
       "32580          MEDICAL          B       6475           9.99            0   \n",
       "\n",
       "       loan_percent_income cb_person_default_on_file  \\\n",
       "0                     0.59                         Y   \n",
       "1                     0.10                         N   \n",
       "2                     0.57                         N   \n",
       "3                     0.53                         N   \n",
       "4                     0.55                         Y   \n",
       "...                    ...                       ...   \n",
       "32576                 0.11                         N   \n",
       "32577                 0.15                         N   \n",
       "32578                 0.46                         N   \n",
       "32579                 0.10                         N   \n",
       "32580                 0.15                         N   \n",
       "\n",
       "       cb_person_cred_hist_length  \n",
       "0                               3  \n",
       "1                               2  \n",
       "2                               3  \n",
       "3                               2  \n",
       "4                               4  \n",
       "...                           ...  \n",
       "32576                          30  \n",
       "32577                          19  \n",
       "32578                          28  \n",
       "32579                          26  \n",
       "32580                          30  \n",
       "\n",
       "[32581 rows x 12 columns]"
      ]
     },
     "execution_count": 7,
     "metadata": {},
     "output_type": "execute_result"
    }
   ],
   "source": [
    "df = pd.read_csv(\"EY/credit_risk_dataset.csv\", skipinitialspace = True)\n",
    "df"
   ]
  },
  {
   "cell_type": "code",
   "execution_count": 8,
   "id": "c5fa5f8f-de20-4af7-9b85-43ace8ec7bdf",
   "metadata": {},
   "outputs": [
    {
     "name": "stdout",
     "output_type": "stream",
     "text": [
      "<class 'pandas.core.frame.DataFrame'>\n",
      "RangeIndex: 32581 entries, 0 to 32580\n",
      "Data columns (total 12 columns):\n",
      " #   Column                      Non-Null Count  Dtype  \n",
      "---  ------                      --------------  -----  \n",
      " 0   person_age                  32581 non-null  int64  \n",
      " 1   person_income               32581 non-null  int64  \n",
      " 2   person_home_ownership       32581 non-null  object \n",
      " 3   person_emp_length           31686 non-null  float64\n",
      " 4   loan_intent                 32581 non-null  object \n",
      " 5   loan_grade                  32581 non-null  object \n",
      " 6   loan_amnt                   32581 non-null  int64  \n",
      " 7   loan_int_rate               29465 non-null  float64\n",
      " 8   loan_status                 32581 non-null  int64  \n",
      " 9   loan_percent_income         32581 non-null  float64\n",
      " 10  cb_person_default_on_file   32581 non-null  object \n",
      " 11  cb_person_cred_hist_length  32581 non-null  int64  \n",
      "dtypes: float64(3), int64(5), object(4)\n",
      "memory usage: 3.0+ MB\n"
     ]
    }
   ],
   "source": [
    "df.info()"
   ]
  },
  {
   "cell_type": "code",
   "execution_count": 9,
   "id": "22b2d371-99aa-4bf1-be82-6ca15672a5a3",
   "metadata": {},
   "outputs": [
    {
     "data": {
      "text/html": [
       "<div>\n",
       "<style scoped>\n",
       "    .dataframe tbody tr th:only-of-type {\n",
       "        vertical-align: middle;\n",
       "    }\n",
       "\n",
       "    .dataframe tbody tr th {\n",
       "        vertical-align: top;\n",
       "    }\n",
       "\n",
       "    .dataframe thead th {\n",
       "        text-align: right;\n",
       "    }\n",
       "</style>\n",
       "<table border=\"1\" class=\"dataframe\">\n",
       "  <thead>\n",
       "    <tr style=\"text-align: right;\">\n",
       "      <th></th>\n",
       "      <th>count</th>\n",
       "      <th>mean</th>\n",
       "      <th>std</th>\n",
       "      <th>min</th>\n",
       "      <th>5%</th>\n",
       "      <th>10%</th>\n",
       "      <th>25%</th>\n",
       "      <th>50%</th>\n",
       "      <th>75%</th>\n",
       "      <th>80%</th>\n",
       "      <th>90%</th>\n",
       "      <th>95%</th>\n",
       "      <th>99%</th>\n",
       "      <th>max</th>\n",
       "    </tr>\n",
       "  </thead>\n",
       "  <tbody>\n",
       "    <tr>\n",
       "      <th>person_age</th>\n",
       "      <td>32581.0</td>\n",
       "      <td>27.734600</td>\n",
       "      <td>6.348078</td>\n",
       "      <td>20.00</td>\n",
       "      <td>22.00</td>\n",
       "      <td>22.00</td>\n",
       "      <td>23.00</td>\n",
       "      <td>26.00</td>\n",
       "      <td>30.00</td>\n",
       "      <td>32.00</td>\n",
       "      <td>36.000</td>\n",
       "      <td>40.00</td>\n",
       "      <td>50.00</td>\n",
       "      <td>144.00</td>\n",
       "    </tr>\n",
       "    <tr>\n",
       "      <th>person_income</th>\n",
       "      <td>32581.0</td>\n",
       "      <td>66074.848470</td>\n",
       "      <td>61983.119168</td>\n",
       "      <td>4000.00</td>\n",
       "      <td>22880.00</td>\n",
       "      <td>28590.00</td>\n",
       "      <td>38500.00</td>\n",
       "      <td>55000.00</td>\n",
       "      <td>79200.00</td>\n",
       "      <td>86000.00</td>\n",
       "      <td>110004.000</td>\n",
       "      <td>138000.00</td>\n",
       "      <td>225200.00</td>\n",
       "      <td>6000000.00</td>\n",
       "    </tr>\n",
       "    <tr>\n",
       "      <th>person_emp_length</th>\n",
       "      <td>31686.0</td>\n",
       "      <td>4.789686</td>\n",
       "      <td>4.142630</td>\n",
       "      <td>0.00</td>\n",
       "      <td>0.00</td>\n",
       "      <td>0.00</td>\n",
       "      <td>2.00</td>\n",
       "      <td>4.00</td>\n",
       "      <td>7.00</td>\n",
       "      <td>8.00</td>\n",
       "      <td>10.000</td>\n",
       "      <td>13.00</td>\n",
       "      <td>18.00</td>\n",
       "      <td>123.00</td>\n",
       "    </tr>\n",
       "    <tr>\n",
       "      <th>loan_amnt</th>\n",
       "      <td>32581.0</td>\n",
       "      <td>9589.371106</td>\n",
       "      <td>6322.086646</td>\n",
       "      <td>500.00</td>\n",
       "      <td>2000.00</td>\n",
       "      <td>3000.00</td>\n",
       "      <td>5000.00</td>\n",
       "      <td>8000.00</td>\n",
       "      <td>12200.00</td>\n",
       "      <td>14500.00</td>\n",
       "      <td>19000.000</td>\n",
       "      <td>24000.00</td>\n",
       "      <td>29800.00</td>\n",
       "      <td>35000.00</td>\n",
       "    </tr>\n",
       "    <tr>\n",
       "      <th>loan_int_rate</th>\n",
       "      <td>29465.0</td>\n",
       "      <td>11.011695</td>\n",
       "      <td>3.240459</td>\n",
       "      <td>5.42</td>\n",
       "      <td>6.03</td>\n",
       "      <td>6.91</td>\n",
       "      <td>7.90</td>\n",
       "      <td>10.99</td>\n",
       "      <td>13.47</td>\n",
       "      <td>13.92</td>\n",
       "      <td>15.298</td>\n",
       "      <td>16.32</td>\n",
       "      <td>18.62</td>\n",
       "      <td>23.22</td>\n",
       "    </tr>\n",
       "    <tr>\n",
       "      <th>loan_status</th>\n",
       "      <td>32581.0</td>\n",
       "      <td>0.218164</td>\n",
       "      <td>0.413006</td>\n",
       "      <td>0.00</td>\n",
       "      <td>0.00</td>\n",
       "      <td>0.00</td>\n",
       "      <td>0.00</td>\n",
       "      <td>0.00</td>\n",
       "      <td>0.00</td>\n",
       "      <td>1.00</td>\n",
       "      <td>1.000</td>\n",
       "      <td>1.00</td>\n",
       "      <td>1.00</td>\n",
       "      <td>1.00</td>\n",
       "    </tr>\n",
       "    <tr>\n",
       "      <th>loan_percent_income</th>\n",
       "      <td>32581.0</td>\n",
       "      <td>0.170203</td>\n",
       "      <td>0.106782</td>\n",
       "      <td>0.00</td>\n",
       "      <td>0.04</td>\n",
       "      <td>0.05</td>\n",
       "      <td>0.09</td>\n",
       "      <td>0.15</td>\n",
       "      <td>0.23</td>\n",
       "      <td>0.25</td>\n",
       "      <td>0.320</td>\n",
       "      <td>0.38</td>\n",
       "      <td>0.50</td>\n",
       "      <td>0.83</td>\n",
       "    </tr>\n",
       "    <tr>\n",
       "      <th>cb_person_cred_hist_length</th>\n",
       "      <td>32581.0</td>\n",
       "      <td>5.804211</td>\n",
       "      <td>4.055001</td>\n",
       "      <td>2.00</td>\n",
       "      <td>2.00</td>\n",
       "      <td>2.00</td>\n",
       "      <td>3.00</td>\n",
       "      <td>4.00</td>\n",
       "      <td>8.00</td>\n",
       "      <td>9.00</td>\n",
       "      <td>11.000</td>\n",
       "      <td>14.00</td>\n",
       "      <td>17.00</td>\n",
       "      <td>30.00</td>\n",
       "    </tr>\n",
       "  </tbody>\n",
       "</table>\n",
       "</div>"
      ],
      "text/plain": [
       "                              count          mean           std      min  \\\n",
       "person_age                  32581.0     27.734600      6.348078    20.00   \n",
       "person_income               32581.0  66074.848470  61983.119168  4000.00   \n",
       "person_emp_length           31686.0      4.789686      4.142630     0.00   \n",
       "loan_amnt                   32581.0   9589.371106   6322.086646   500.00   \n",
       "loan_int_rate               29465.0     11.011695      3.240459     5.42   \n",
       "loan_status                 32581.0      0.218164      0.413006     0.00   \n",
       "loan_percent_income         32581.0      0.170203      0.106782     0.00   \n",
       "cb_person_cred_hist_length  32581.0      5.804211      4.055001     2.00   \n",
       "\n",
       "                                  5%       10%       25%       50%       75%  \\\n",
       "person_age                     22.00     22.00     23.00     26.00     30.00   \n",
       "person_income               22880.00  28590.00  38500.00  55000.00  79200.00   \n",
       "person_emp_length               0.00      0.00      2.00      4.00      7.00   \n",
       "loan_amnt                    2000.00   3000.00   5000.00   8000.00  12200.00   \n",
       "loan_int_rate                   6.03      6.91      7.90     10.99     13.47   \n",
       "loan_status                     0.00      0.00      0.00      0.00      0.00   \n",
       "loan_percent_income             0.04      0.05      0.09      0.15      0.23   \n",
       "cb_person_cred_hist_length      2.00      2.00      3.00      4.00      8.00   \n",
       "\n",
       "                                 80%         90%        95%        99%  \\\n",
       "person_age                     32.00      36.000      40.00      50.00   \n",
       "person_income               86000.00  110004.000  138000.00  225200.00   \n",
       "person_emp_length               8.00      10.000      13.00      18.00   \n",
       "loan_amnt                   14500.00   19000.000   24000.00   29800.00   \n",
       "loan_int_rate                  13.92      15.298      16.32      18.62   \n",
       "loan_status                     1.00       1.000       1.00       1.00   \n",
       "loan_percent_income             0.25       0.320       0.38       0.50   \n",
       "cb_person_cred_hist_length      9.00      11.000      14.00      17.00   \n",
       "\n",
       "                                   max  \n",
       "person_age                      144.00  \n",
       "person_income               6000000.00  \n",
       "person_emp_length               123.00  \n",
       "loan_amnt                     35000.00  \n",
       "loan_int_rate                    23.22  \n",
       "loan_status                       1.00  \n",
       "loan_percent_income               0.83  \n",
       "cb_person_cred_hist_length       30.00  "
      ]
     },
     "execution_count": 9,
     "metadata": {},
     "output_type": "execute_result"
    }
   ],
   "source": [
    "df.describe([0.05, 0.10, 0.25, 0.50, 0.75, 0.80, 0.90, 0.95, 0.99]).T\n"
   ]
  },
  {
   "cell_type": "code",
   "execution_count": 65,
   "id": "4ec06797-6b17-4dae-b9ae-8ea0df176666",
   "metadata": {},
   "outputs": [
    {
     "data": {
      "text/plain": [
       "person_age                       0\n",
       "person_income                    0\n",
       "person_home_ownership            0\n",
       "person_emp_length              895\n",
       "loan_intent                      0\n",
       "loan_grade                       0\n",
       "loan_amnt                        0\n",
       "loan_int_rate                 3116\n",
       "loan_status                      0\n",
       "loan_percent_income              0\n",
       "cb_person_default_on_file        0\n",
       "cb_person_cred_hist_length       0\n",
       "dtype: int64"
      ]
     },
     "execution_count": 65,
     "metadata": {},
     "output_type": "execute_result"
    }
   ],
   "source": [
    "df.isnull().sum()"
   ]
  },
  {
   "cell_type": "code",
   "execution_count": 66,
   "id": "c5ff14ad-e665-4f65-9750-3bf68cb47f9f",
   "metadata": {},
   "outputs": [],
   "source": [
    "# drop values that are null\n",
    "df.dropna(axis=0,inplace=True)"
   ]
  },
  {
   "cell_type": "code",
   "execution_count": 67,
   "id": "d97c8cb2-59c1-4720-8a1b-345a4df8ff92",
   "metadata": {},
   "outputs": [
    {
     "data": {
      "text/plain": [
       "person_age                    0\n",
       "person_income                 0\n",
       "person_home_ownership         0\n",
       "person_emp_length             0\n",
       "loan_intent                   0\n",
       "loan_grade                    0\n",
       "loan_amnt                     0\n",
       "loan_int_rate                 0\n",
       "loan_status                   0\n",
       "loan_percent_income           0\n",
       "cb_person_default_on_file     0\n",
       "cb_person_cred_hist_length    0\n",
       "dtype: int64"
      ]
     },
     "execution_count": 67,
     "metadata": {},
     "output_type": "execute_result"
    }
   ],
   "source": [
    "df.isnull().sum()"
   ]
  },
  {
   "cell_type": "code",
   "execution_count": 73,
   "id": "780dddd0-e450-42cf-b533-2f166fb5f922",
   "metadata": {},
   "outputs": [
    {
     "data": {
      "text/plain": [
       "25"
      ]
     },
     "execution_count": 73,
     "metadata": {},
     "output_type": "execute_result"
    }
   ],
   "source": [
    "(df['person_age'].value_counts().values>90).sum()"
   ]
  },
  {
   "cell_type": "code",
   "execution_count": 72,
   "id": "f7028dd3-b6ee-4097-85c1-baf3fac01aa2",
   "metadata": {},
   "outputs": [
    {
     "name": "stdout",
     "output_type": "stream",
     "text": [
      "maximum 144\n",
      "minimum 20\n"
     ]
    }
   ],
   "source": [
    "max_ = df['person_age'].max()\n",
    "min_ = df['person_age'].min()\n",
    "print(f\"maximum {max_}\")\n",
    "print(f\"minimum {min_}\")"
   ]
  },
  {
   "cell_type": "code",
   "execution_count": 74,
   "id": "024eb273-2e20-4524-8d00-8aa407bb0ebe",
   "metadata": {},
   "outputs": [],
   "source": [
    "#drop people that are over 80 because the number of people over 80 is insignificant\n",
    "df = df.drop(df[df['person_age'] > 80].index, axis=0)"
   ]
  },
  {
   "cell_type": "code",
   "execution_count": 76,
   "id": "ebeb7b28-2990-4b25-8904-651155a8c1d0",
   "metadata": {},
   "outputs": [
    {
     "name": "stdout",
     "output_type": "stream",
     "text": [
      "There are 0 people with an age between 1 and 18.\n",
      "There are 15682 people with an age between 19 and 26.\n",
      "There are 10422 people with an age between 27 and 36.\n",
      "There are 2054 people with an age between 37 and 46.\n",
      "There are 372 people with an age between 47 and 56.\n",
      "There are 87 people with an age between 57 and 66.\n",
      "28633\n"
     ]
    }
   ],
   "source": [
    "# people with an age between x and y\n",
    "def age_group(arr):\n",
    "    lenarr = len(arr)\n",
    "    for i in range(0,lenarr-1):\n",
    "        next = arr[i]+1\n",
    "        num_people = df['person_age'].between(next,arr[i+1]).sum()\n",
    "        print(f'There are {num_people} people with an age between {next} and {arr[i+1]}.')\n",
    "        \n",
    "age_group([0 ,18, 26, 36, 46, 56, 66])\n",
    "\n",
    "print(df.shape[0]) "
   ]
  },
  {
   "cell_type": "code",
   "execution_count": 78,
   "id": "b0b73c67-96ad-47dc-b1bf-9e7d1404dd65",
   "metadata": {},
   "outputs": [
    {
     "name": "stdout",
     "output_type": "stream",
     "text": [
      "maximum 2039784\n",
      "minimum 4000\n"
     ]
    }
   ],
   "source": [
    "max_ = df['person_income'].max()\n",
    "min_ = df['person_income'].min()\n",
    "\n",
    "print(f\"maximum {max_}\")\n",
    "print(f\"minimum {min_}\")"
   ]
  },
  {
   "cell_type": "code",
   "execution_count": 79,
   "id": "02b83f50-d4ee-41e3-b9df-2efc3c0ccfee",
   "metadata": {},
   "outputs": [
    {
     "name": "stdout",
     "output_type": "stream",
     "text": [
      "There are 1972 people with an income between 1 and 25000.\n",
      "There are 10198 people with an income between 25001 and 50000.\n",
      "There are 8532 people with an income between 50001 and 75000.\n",
      "There are 4197 people with an income between 75001 and 100000.\n",
      "There are 3734 people with an income between 100001 and inf.\n",
      "28633\n"
     ]
    }
   ],
   "source": [
    "# people with an income between x and y\n",
    "def income_group(arr):\n",
    "    lenarr = len(arr)\n",
    "    for i in range(0,lenarr-1):\n",
    "        next = arr[i]+1\n",
    "        num_people = df['person_income'].between(next,arr[i+1]).sum()\n",
    "        print(f'There are {num_people} people with an income between {next} and {arr[i+1]}.')\n",
    "        \n",
    "income_group([0, 25000, 50000, 75000, 100000,float('inf')])\n",
    "\n",
    "print(df.shape[0])"
   ]
  },
  {
   "cell_type": "code",
   "execution_count": 80,
   "id": "6abd2c8c-94f9-427f-bdfa-562dd4b75637",
   "metadata": {},
   "outputs": [
    {
     "name": "stdout",
     "output_type": "stream",
     "text": [
      "maximum 35000\n",
      "minimum 500\n"
     ]
    }
   ],
   "source": [
    "max_loan_amount = df['loan_amnt'].max()\n",
    "min_loan_amount = df['loan_amnt'].min()\n",
    "\n",
    "print(f\"maximum {max_loan_amount}\")\n",
    "print(f\"minimum {min_loan_amount}\")"
   ]
  },
  {
   "cell_type": "code",
   "execution_count": 81,
   "id": "92711450-7424-4abf-830f-22977bad0f6b",
   "metadata": {},
   "outputs": [
    {
     "name": "stdout",
     "output_type": "stream",
     "text": [
      "There are 8182 people with an loan_amount between 1 and 5000.\n",
      "There are 10608 people with an loan_amount between 5001 and 10000.\n",
      "There are 5430 people with an loan_amount between 10001 and 15000.\n",
      "There are 4413 people with an loan_amount between 15001 and inf.\n",
      "28633\n"
     ]
    }
   ],
   "source": [
    "\n",
    "# people with an income between x and y\n",
    "def loan_amount_group(arr):\n",
    "    lenarr = len(arr)\n",
    "    for i in range(0,lenarr-1):\n",
    "        next = arr[i]+1\n",
    "        num_people = df['loan_amnt'].between(next,arr[i+1]).sum()\n",
    "        print(f'There are {num_people} people with an loan_amount between {next} and {arr[i+1]}.')\n",
    "        \n",
    "loan_amount_group([0, 5000, 10000, 15000, float('inf')])\n",
    "\n",
    "print(df.shape[0])   "
   ]
  },
  {
   "cell_type": "code",
   "execution_count": 85,
   "id": "3e5eb1c7-6783-4ee3-8dfb-f23a32d62dcb",
   "metadata": {
    "scrolled": true
   },
   "outputs": [
    {
     "data": {
      "text/html": [
       "<div>\n",
       "<style scoped>\n",
       "    .dataframe tbody tr th:only-of-type {\n",
       "        vertical-align: middle;\n",
       "    }\n",
       "\n",
       "    .dataframe tbody tr th {\n",
       "        vertical-align: top;\n",
       "    }\n",
       "\n",
       "    .dataframe thead th {\n",
       "        text-align: right;\n",
       "    }\n",
       "</style>\n",
       "<table border=\"1\" class=\"dataframe\">\n",
       "  <thead>\n",
       "    <tr style=\"text-align: right;\">\n",
       "      <th></th>\n",
       "      <th>person_age</th>\n",
       "      <th>person_income</th>\n",
       "      <th>person_home_ownership</th>\n",
       "      <th>person_emp_length</th>\n",
       "      <th>loan_intent</th>\n",
       "      <th>loan_grade</th>\n",
       "      <th>loan_amnt</th>\n",
       "      <th>loan_int_rate</th>\n",
       "      <th>loan_status</th>\n",
       "      <th>loan_percent_income</th>\n",
       "      <th>cb_person_default_on_file</th>\n",
       "      <th>cb_person_cred_hist_length</th>\n",
       "    </tr>\n",
       "  </thead>\n",
       "  <tbody>\n",
       "    <tr>\n",
       "      <th>1</th>\n",
       "      <td>21</td>\n",
       "      <td>9600</td>\n",
       "      <td>OWN</td>\n",
       "      <td>5.0</td>\n",
       "      <td>EDUCATION</td>\n",
       "      <td>B</td>\n",
       "      <td>1000</td>\n",
       "      <td>11.14</td>\n",
       "      <td>0</td>\n",
       "      <td>0.10</td>\n",
       "      <td>N</td>\n",
       "      <td>2</td>\n",
       "    </tr>\n",
       "    <tr>\n",
       "      <th>2</th>\n",
       "      <td>25</td>\n",
       "      <td>9600</td>\n",
       "      <td>MORTGAGE</td>\n",
       "      <td>1.0</td>\n",
       "      <td>MEDICAL</td>\n",
       "      <td>C</td>\n",
       "      <td>5500</td>\n",
       "      <td>12.87</td>\n",
       "      <td>1</td>\n",
       "      <td>0.57</td>\n",
       "      <td>N</td>\n",
       "      <td>3</td>\n",
       "    </tr>\n",
       "    <tr>\n",
       "      <th>3</th>\n",
       "      <td>23</td>\n",
       "      <td>65500</td>\n",
       "      <td>RENT</td>\n",
       "      <td>4.0</td>\n",
       "      <td>MEDICAL</td>\n",
       "      <td>C</td>\n",
       "      <td>35000</td>\n",
       "      <td>15.23</td>\n",
       "      <td>1</td>\n",
       "      <td>0.53</td>\n",
       "      <td>N</td>\n",
       "      <td>2</td>\n",
       "    </tr>\n",
       "    <tr>\n",
       "      <th>4</th>\n",
       "      <td>24</td>\n",
       "      <td>54400</td>\n",
       "      <td>RENT</td>\n",
       "      <td>8.0</td>\n",
       "      <td>MEDICAL</td>\n",
       "      <td>C</td>\n",
       "      <td>35000</td>\n",
       "      <td>14.27</td>\n",
       "      <td>1</td>\n",
       "      <td>0.55</td>\n",
       "      <td>Y</td>\n",
       "      <td>4</td>\n",
       "    </tr>\n",
       "    <tr>\n",
       "      <th>5</th>\n",
       "      <td>21</td>\n",
       "      <td>9900</td>\n",
       "      <td>OWN</td>\n",
       "      <td>2.0</td>\n",
       "      <td>VENTURE</td>\n",
       "      <td>A</td>\n",
       "      <td>2500</td>\n",
       "      <td>7.14</td>\n",
       "      <td>1</td>\n",
       "      <td>0.25</td>\n",
       "      <td>N</td>\n",
       "      <td>2</td>\n",
       "    </tr>\n",
       "  </tbody>\n",
       "</table>\n",
       "</div>"
      ],
      "text/plain": [
       "   person_age  person_income person_home_ownership  person_emp_length  \\\n",
       "1          21           9600                   OWN                5.0   \n",
       "2          25           9600              MORTGAGE                1.0   \n",
       "3          23          65500                  RENT                4.0   \n",
       "4          24          54400                  RENT                8.0   \n",
       "5          21           9900                   OWN                2.0   \n",
       "\n",
       "  loan_intent loan_grade  loan_amnt  loan_int_rate  loan_status  \\\n",
       "1   EDUCATION          B       1000          11.14            0   \n",
       "2     MEDICAL          C       5500          12.87            1   \n",
       "3     MEDICAL          C      35000          15.23            1   \n",
       "4     MEDICAL          C      35000          14.27            1   \n",
       "5     VENTURE          A       2500           7.14            1   \n",
       "\n",
       "   loan_percent_income cb_person_default_on_file  cb_person_cred_hist_length  \n",
       "1                 0.10                         N                           2  \n",
       "2                 0.57                         N                           3  \n",
       "3                 0.53                         N                           2  \n",
       "4                 0.55                         Y                           4  \n",
       "5                 0.25                         N                           2  "
      ]
     },
     "execution_count": 85,
     "metadata": {},
     "output_type": "execute_result"
    }
   ],
   "source": [
    "df.head()"
   ]
  },
  {
   "cell_type": "code",
   "execution_count": 86,
   "id": "ccae8734-065e-46bd-b0a0-a4387407cf71",
   "metadata": {},
   "outputs": [
    {
     "data": {
      "text/plain": [
       "RENT        14548\n",
       "MORTGAGE    11797\n",
       "OWN          2192\n",
       "OTHER          94\n",
       "Name: person_home_ownership, dtype: int64"
      ]
     },
     "execution_count": 86,
     "metadata": {},
     "output_type": "execute_result"
    }
   ],
   "source": [
    "df['person_home_ownership'].value_counts()"
   ]
  },
  {
   "cell_type": "code",
   "execution_count": 11,
   "id": "2a132da7-a750-4b77-8a62-b0824d1e7a7d",
   "metadata": {},
   "outputs": [
    {
     "data": {
      "text/plain": [
       "count    32581.000000\n",
       "mean         0.218164\n",
       "std          0.413006\n",
       "min          0.000000\n",
       "25%          0.000000\n",
       "50%          0.000000\n",
       "75%          0.000000\n",
       "max          1.000000\n",
       "Name: loan_status, dtype: float64"
      ]
     },
     "execution_count": 11,
     "metadata": {},
     "output_type": "execute_result"
    }
   ],
   "source": [
    "df[\"loan_status\"].describe()\n"
   ]
  },
  {
   "cell_type": "code",
   "execution_count": 23,
   "id": "e4641de1-4bfe-4175-8765-bda30f2eeabe",
   "metadata": {},
   "outputs": [
    {
     "data": {
      "text/plain": [
       "Text(0, 0.5, 'Loan Percent Income')"
      ]
     },
     "execution_count": 23,
     "metadata": {},
     "output_type": "execute_result"
    },
    {
     "data": {
      "image/png": "[encoded data removed]",
      "text/plain": [
       "<Figure size 1600x900 with 1 Axes>"
      ]
     },
     "metadata": {},
     "output_type": "display_data"
    }
   ],
   "source": [
    "#relation entre loan_status et loan_percent_income\n",
    "x = df[[\"loan_status\", \"loan_percent_income\"]]\n",
    "\n",
    "f, ax = plt.subplots(figsize=(16, 9));\n",
    "sns.boxplot(x = \"loan_status\", y = \"loan_percent_income\", data = x, palette = 'summer');\n",
    "\n",
    "plt.title('Loan Percent Income for Loan Status', fontsize = 25)\n",
    "plt.xticks(fontsize = 14)\n",
    "plt.yticks(fontsize = 10);\n",
    "plt.xlabel(\"Loan Status\", fontsize = 15)\n",
    "plt.ylabel(\"Loan Percent Income\", fontsize = 15)\n"
   ]
  },
  {
   "cell_type": "code",
   "execution_count": 25,
   "id": "37753263-8af9-44a2-9736-3d9bbb30d385",
   "metadata": {},
   "outputs": [
    {
     "data": {
      "text/html": [
       "<div>\n",
       "<style scoped>\n",
       "    .dataframe tbody tr th:only-of-type {\n",
       "        vertical-align: middle;\n",
       "    }\n",
       "\n",
       "    .dataframe tbody tr th {\n",
       "        vertical-align: top;\n",
       "    }\n",
       "\n",
       "    .dataframe thead th {\n",
       "        text-align: right;\n",
       "    }\n",
       "</style>\n",
       "<table border=\"1\" class=\"dataframe\">\n",
       "  <thead>\n",
       "    <tr style=\"text-align: right;\">\n",
       "      <th></th>\n",
       "      <th>count</th>\n",
       "      <th>unique</th>\n",
       "      <th>top</th>\n",
       "      <th>freq</th>\n",
       "    </tr>\n",
       "  </thead>\n",
       "  <tbody>\n",
       "    <tr>\n",
       "      <th>person_home_ownership</th>\n",
       "      <td>32581</td>\n",
       "      <td>4</td>\n",
       "      <td>RENT</td>\n",
       "      <td>16446</td>\n",
       "    </tr>\n",
       "    <tr>\n",
       "      <th>loan_intent</th>\n",
       "      <td>32581</td>\n",
       "      <td>6</td>\n",
       "      <td>EDUCATION</td>\n",
       "      <td>6453</td>\n",
       "    </tr>\n",
       "    <tr>\n",
       "      <th>loan_grade</th>\n",
       "      <td>32581</td>\n",
       "      <td>7</td>\n",
       "      <td>A</td>\n",
       "      <td>10777</td>\n",
       "    </tr>\n",
       "    <tr>\n",
       "      <th>cb_person_default_on_file</th>\n",
       "      <td>32581</td>\n",
       "      <td>2</td>\n",
       "      <td>N</td>\n",
       "      <td>26836</td>\n",
       "    </tr>\n",
       "  </tbody>\n",
       "</table>\n",
       "</div>"
      ],
      "text/plain": [
       "                           count unique        top   freq\n",
       "person_home_ownership      32581      4       RENT  16446\n",
       "loan_intent                32581      6  EDUCATION   6453\n",
       "loan_grade                 32581      7          A  10777\n",
       "cb_person_default_on_file  32581      2          N  26836"
      ]
     },
     "execution_count": 25,
     "metadata": {},
     "output_type": "execute_result"
    }
   ],
   "source": [
    "df.describe(include = \"O\").T\n"
   ]
  },
  {
   "cell_type": "code",
   "execution_count": 32,
   "id": "8bc513bd-001b-443f-a13b-566958e273f2",
   "metadata": {},
   "outputs": [
    {
     "data": {
      "image/png": "[encoded data removed]",
      "text/plain": [
       "<Figure size 2100x1000 with 4 Axes>"
      ]
     },
     "metadata": {},
     "output_type": "display_data"
    }
   ],
   "source": [
    "fig, axes = plt.subplots(2, 2, figsize=(21, 10))\n",
    "\n",
    "sns.countplot(x='person_home_ownership', data=df, ax=axes[0, 0], palette='CMRmap')\n",
    "sns.countplot(x='loan_intent', data=df, ax=axes[0, 1], palette='CMRmap')\n",
    "sns.countplot(x='loan_grade', data=df, ax=axes[1, 1], palette='CMRmap')\n",
    "sns.countplot(x='cb_person_default_on_file', data=df, ax=axes[1, 0], palette='CMRmap')\n",
    "\n",
    "plt.tight_layout()  # Pour améliorer l'espacement entre les sous-graphiques\n",
    "\n",
    "plt.show()\n"
   ]
  },
  {
   "cell_type": "code",
   "execution_count": 35,
   "id": "25b9dcd2-95fe-43b8-87e5-552e6f9c2dce",
   "metadata": {},
   "outputs": [
    {
     "data": {
      "image/png": "[encoded data removed]",
      "text/plain": [
       "<Figure size 2100x1000 with 4 Axes>"
      ]
     },
     "metadata": {},
     "output_type": "display_data"
    }
   ],
   "source": [
    "fig, axes = plt.subplots(2, 2, figsize=(21, 10))\n",
    "\n",
    "sns.countplot(x='person_home_ownership', hue=\"loan_status\", data=df, ax=axes[0, 0], palette='CMRmap')\n",
    "sns.countplot(x='loan_intent', hue=\"loan_status\", data=df, ax=axes[0, 1], palette='CMRmap')\n",
    "sns.countplot(x='loan_grade', hue=\"loan_status\", data=df, ax=axes[1, 1], palette='CMRmap')\n",
    "sns.countplot(x='cb_person_default_on_file', hue=\"loan_status\", data=df, ax=axes[1, 0], palette='CMRmap')\n",
    "\n",
    "plt.tight_layout()  # Pour améliorer l'espacement entre les sous-graphiques\n",
    "\n",
    "plt.show()\n"
   ]
  }
 ],
 "metadata": {
  "kernelspec": {
   "display_name": "Python 3 (ipykernel)",
   "language": "python",
   "name": "python3"
  },
  "language_info": {
   "codemirror_mode": {
    "name": "ipython",
    "version": 3
   },
   "file_extension": ".py",
   "mimetype": "text/x-python",
   "name": "python",
   "nbconvert_exporter": "python",
   "pygments_lexer": "ipython3",
   "version": "3.10.11"
  }
 },
 "nbformat": 4,
 "nbformat_minor": 5
}
